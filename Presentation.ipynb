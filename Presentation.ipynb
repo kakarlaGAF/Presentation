{
 "cells": [
  {
   "cell_type": "markdown",
   "metadata": {
    "slideshow": {
     "slide_type": "slide"
    }
   },
   "source": [
    "DS PROJECTS IN PROGRESS \n",
    "\n",
    "1. PREDICT MOVE MODEL\n",
    "2. TEXT ANALYTICS \n",
    "3. GEO-TARGETING"
   ]
  },
  {
   "cell_type": "markdown",
   "metadata": {
    "collapsed": true,
    "slideshow": {
     "slide_type": "slide"
    }
   },
   "source": [
    "PREDICT MOVE MODEL "
   ]
  },
  {
   "cell_type": "markdown",
   "metadata": {
    "collapsed": true,
    "slideshow": {
     "slide_type": "subslide"
    }
   },
   "source": [
    "DATA GATHERING STAGE\n",
    "-> From 5 Yrs of New Jersey Tax Information available online, considered the address. \n",
    "-> Used thus obtained address to pull other information from Zillow using it's API.\n",
    "-> Got information of Schools breaking down to High,Middle,Elementary,Pre and Crime reports which are available online. \n",
    "-> Scraping for Name,Age,Worked information. \n",
    "-> Scraping count of near by restaruants (within 5 mile radius)\n"
   ]
  },
  {
   "cell_type": "markdown",
   "metadata": {
    "collapsed": true,
    "slideshow": {
     "slide_type": "subslide"
    }
   },
   "source": [
    "EXPECTATIONS OF DATA_v.1 HAVING THE FOLLOWING INFORMATION \n",
    "\n",
    "    NAME, AGE,WORKED AT\n",
    "    ADDRESS,CITY,ZIPCODE,LAT,LONG,ZILLOW ID,BEDROOMS,BATHROOMS,HOME SIZE,HOME TYPE,LAST SOLD DATE,LAST SOLD PRICE,PROPERTY SIZE,TAX VALUE,TAX YEAR,YEAR BUILT,ZESTIMATE AMOUNT,HOME DETAIL LINK\n",
    "    #-SCHOOL  PRE,#-SCHOOL  ELEMENTARY,#-SCHOOL  MIDDLE,#-SCHOOL  HIGH\n",
    "    #-CRIMES\n",
    "    #-FOOD/RESTAURANTS AROUND 5 MILE RADIUS\n"
   ]
  },
  {
   "cell_type": "markdown",
   "metadata": {
    "slideshow": {
     "slide_type": "slide"
    }
   },
   "source": [
    "TEXT ANALYTICS"
   ]
  },
  {
   "cell_type": "markdown",
   "metadata": {
    "slideshow": {
     "slide_type": "subslide"
    }
   },
   "source": [
    "DATA GATHERING STAGE\n",
    "\n",
    "    REVIEWS, RATINGS FROM WEBSITES [ROOFERY.COM,OWEN CORNINGS]\n",
    "    REVIEWS FROM INTERNAL SOURCES [PRESENT IN SHARED DRIVE] \n",
    "    SOCIAL NETWORKING SITES [FACEBOOK,TWITTER]\n",
    "    "
   ]
  },
  {
   "cell_type": "markdown",
   "metadata": {
    "slideshow": {
     "slide_type": "slide"
    }
   },
   "source": [
    "GEO TARGETING"
   ]
  },
  {
   "cell_type": "markdown",
   "metadata": {
    "slideshow": {
     "slide_type": "subslide"
    }
   },
   "source": [
    "I DON'T KNOW YET "
   ]
  }
 ],
 "metadata": {
  "celltoolbar": "Slideshow",
  "kernelspec": {
   "display_name": "Python 2",
   "language": "python",
   "name": "python2"
  },
  "language_info": {
   "codemirror_mode": {
    "name": "ipython",
    "version": 2
   },
   "file_extension": ".py",
   "mimetype": "text/x-python",
   "name": "python",
   "nbconvert_exporter": "python",
   "pygments_lexer": "ipython2",
   "version": "2.7.13"
  }
 },
 "nbformat": 4,
 "nbformat_minor": 2
}
